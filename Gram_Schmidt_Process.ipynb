{
  "nbformat": 4,
  "nbformat_minor": 0,
  "metadata": {
    "colab": {
      "provenance": [],
      "authorship_tag": "ABX9TyPDelaUooQ20c0wdEG6mAzc",
      "include_colab_link": true
    },
    "kernelspec": {
      "name": "python3",
      "display_name": "Python 3"
    },
    "language_info": {
      "name": "python"
    }
  },
  "cells": [
    {
      "cell_type": "markdown",
      "metadata": {
        "id": "view-in-github",
        "colab_type": "text"
      },
      "source": [
        "<a href=\"https://colab.research.google.com/github/gklunder0926/Math311_Linear_Algebra_Projects/blob/main/Gram_Schmidt_Process.ipynb\" target=\"_parent\"><img src=\"https://colab.research.google.com/assets/colab-badge.svg\" alt=\"Open In Colab\"/></a>"
      ]
    },
    {
      "cell_type": "code",
      "execution_count": 2,
      "metadata": {
        "id": "gIcVOkYc2Sll"
      },
      "outputs": [],
      "source": [
        "import matplotlib.pyplot as plt\n",
        "from sympy import Poly\n",
        "import sympy as sym\n",
        "import numpy as np\n",
        "from numpy import c_\n",
        "\n",
        "# We'll specify that x and t are variables:\n",
        "x, t = sym.symbols('x, t')\n",
        "\n",
        "ll = \"loaded\""
      ]
    },
    {
      "cell_type": "code",
      "source": [
        "#  Create a vector:\n",
        "z = np.matrix('1; 2; 3; 4')\n",
        "z\n",
        ""
      ],
      "metadata": {
        "colab": {
          "base_uri": "https://localhost:8080/"
        },
        "id": "LLCn3DXr2enx",
        "outputId": "3ed393ac-097d-4af8-d36e-7af68afecfc9"
      },
      "execution_count": 3,
      "outputs": [
        {
          "output_type": "execute_result",
          "data": {
            "text/plain": [
              "matrix([[1],\n",
              "        [2],\n",
              "        [3],\n",
              "        [4]])"
            ]
          },
          "metadata": {},
          "execution_count": 3
        }
      ]
    },
    {
      "cell_type": "code",
      "source": [
        "# create a vector as an array:\n",
        "s = np.array([ 1, 2, 3, 4])\n",
        "s\n",
        ""
      ],
      "metadata": {
        "colab": {
          "base_uri": "https://localhost:8080/"
        },
        "id": "BdvtzC5h4HZh",
        "outputId": "21531723-c69c-44a6-84a4-c12a6be8c448"
      },
      "execution_count": 4,
      "outputs": [
        {
          "output_type": "execute_result",
          "data": {
            "text/plain": [
              "array([1, 2, 3, 4])"
            ]
          },
          "metadata": {},
          "execution_count": 4
        }
      ]
    },
    {
      "cell_type": "code",
      "source": [
        "#do a dot product:\n",
        "s.dot(s)\n"
      ],
      "metadata": {
        "colab": {
          "base_uri": "https://localhost:8080/"
        },
        "id": "nW0_coSS4TEh",
        "outputId": "b8af577a-78b3-4087-9712-7e35dacd67a2"
      },
      "execution_count": 5,
      "outputs": [
        {
          "output_type": "execute_result",
          "data": {
            "text/plain": [
              "30"
            ]
          },
          "metadata": {},
          "execution_count": 5
        }
      ]
    },
    {
      "cell_type": "code",
      "source": [
        "# the size of s:\n",
        "np.sqrt(s.dot(s))\n",
        ""
      ],
      "metadata": {
        "colab": {
          "base_uri": "https://localhost:8080/"
        },
        "id": "b-rcTxH44aBO",
        "outputId": "e89a2076-91f9-48d7-b8d2-573d4926fcae"
      },
      "execution_count": 6,
      "outputs": [
        {
          "output_type": "execute_result",
          "data": {
            "text/plain": [
              "5.477225575051661"
            ]
          },
          "metadata": {},
          "execution_count": 6
        }
      ]
    },
    {
      "cell_type": "markdown",
      "source": [
        "Gram Schmidt Process:\n",
        "\n",
        "1. Start with \"random\" vectors r1, r2, r3, and r4\n",
        "2. Process them in order, generating: u1, u2, u3, and u4.\n",
        "\n",
        "After each step, we'll check that our nice vectors  are:\n",
        "  * orthogonal to previous nice vectors\n",
        "  * have magnitude 1"
      ],
      "metadata": {
        "id": "EbaZjxEV5BL-"
      }
    },
    {
      "cell_type": "code",
      "source": [
        "# These are the \"random vectors\":\n",
        "\n",
        "r1= np.array ([3, 0, 3, 0])\n",
        "\n",
        "r2= np.array ([3, 2, 3, 3])\n",
        "\n",
        "r3= np.array ([-7, -4, -5, -6])\n",
        "\n",
        "r4= np.array ([-7, -3, -11, 2])"
      ],
      "metadata": {
        "id": "w3j4Xk405r4B"
      },
      "execution_count": 7,
      "outputs": []
    },
    {
      "cell_type": "code",
      "source": [
        "# Let's process teh vectors:\n",
        "  # Select a random vector, and subtract the nice pieces\\.\n",
        "  # t = r - _u1 - _ u2- _u3...\n",
        "  # where the _ are the dot products of r with the ui\n",
        "\n",
        "  # Then we'll fund the magnitude of t:\n",
        "  #If |t| is not 0, we create u=(1/|t|)*t\n",
        "\n",
        "  #Check that |u|=1 and its orthognal to other u's"
      ],
      "metadata": {
        "id": "qge_1pxo6fXQ"
      },
      "execution_count": 8,
      "outputs": []
    },
    {
      "cell_type": "code",
      "source": [
        "#Process r1:\n",
        "t1=r1\n",
        "print(\"t1=\",t1)\n",
        "\n",
        "#magnitude\n",
        "n1= np.sqrt(t1.dot(t1))\n",
        "print(\"the size of t1 is\", n1)\n",
        "\n",
        "#create u1:\n",
        "u1= (1/n1)*t1\n",
        "print(\"u1 is\", u1)"
      ],
      "metadata": {
        "colab": {
          "base_uri": "https://localhost:8080/"
        },
        "id": "gC8xsrO17JFs",
        "outputId": "e4033bde-688c-4c52-99a9-f0a67dd7a2d4"
      },
      "execution_count": 9,
      "outputs": [
        {
          "output_type": "stream",
          "name": "stdout",
          "text": [
            "t1= [3 0 3 0]\n",
            "the size of t1 is 4.242640687119285\n",
            "u1 is [0.70710678 0.         0.70710678 0.        ]\n"
          ]
        }
      ]
    },
    {
      "cell_type": "code",
      "source": [
        "#Santy check:\n",
        "print(\"the size of u1 is \", np.sqrt(u1.dot(u1)))"
      ],
      "metadata": {
        "colab": {
          "base_uri": "https://localhost:8080/"
        },
        "id": "ZisHLS2z9HVG",
        "outputId": "3ab3e51b-afc8-456d-97c4-7ca5b66818bd"
      },
      "execution_count": 10,
      "outputs": [
        {
          "output_type": "stream",
          "name": "stdout",
          "text": [
            "the size of u1 is  1.0\n"
          ]
        }
      ]
    },
    {
      "cell_type": "code",
      "source": [
        "#Process r2:\n",
        "t2=r2 -r2.dot(u1)*u1\n",
        "print(\"t2=\",t2)\n",
        "\n",
        "#magnitude\n",
        "n2= np.sqrt(t2.dot(t2))\n",
        "print(\"the size of t2 is\", n2)\n",
        "\n",
        "#create u2:\n",
        "u2= (1/n2)*t2\n",
        "print(\"u2 is\", u2)"
      ],
      "metadata": {
        "colab": {
          "base_uri": "https://localhost:8080/"
        },
        "id": "qVGB7oai9dko",
        "outputId": "a35251d3-1f84-45c1-e76a-66f0e3f6dd4b"
      },
      "execution_count": 11,
      "outputs": [
        {
          "output_type": "stream",
          "name": "stdout",
          "text": [
            "t2= [-4.4408921e-16  2.0000000e+00 -4.4408921e-16  3.0000000e+00]\n",
            "the size of t2 is 3.605551275463989\n",
            "u2 is [-1.23168186e-16  5.54700196e-01 -1.23168186e-16  8.32050294e-01]\n"
          ]
        }
      ]
    },
    {
      "cell_type": "code",
      "source": [
        "#Santy check:\n",
        "print(\"the size of u2 is\", np.sqrt(u2.dot(u2)))\n",
        "\n",
        "print(\"the dot product of u1 and u2 is \", u1.dot(u2))"
      ],
      "metadata": {
        "colab": {
          "base_uri": "https://localhost:8080/"
        },
        "id": "2W-CKJ-q9vND",
        "outputId": "24f4ec36-c833-4328-efe4-396512d7ea1a"
      },
      "execution_count": 12,
      "outputs": [
        {
          "output_type": "stream",
          "name": "stdout",
          "text": [
            "the size of u2 is 1.0\n",
            "the dot product of u1 and u2 is  -1.741861189847285e-16\n"
          ]
        }
      ]
    },
    {
      "cell_type": "code",
      "source": [
        "# process r3:\n",
        "\n",
        "t3=r3 -r3.dot(u1)*u1-r3.dot(u2)*u2\n",
        "print(\"t3=\",t3)\n",
        "\n",
        "#magnitude\n",
        "n3= np.sqrt(t3.dot(t3))\n",
        "print(\"the size of t3 is\", n3)\n",
        "\n",
        "#create u3:\n",
        "u3= (1/n3)*t3\n",
        "print(\"u3 is\", u3)"
      ],
      "metadata": {
        "colab": {
          "base_uri": "https://localhost:8080/"
        },
        "id": "Ji_XTKvv-MyQ",
        "outputId": "0967dcfd-dd45-49f8-d4fc-7baf95a5e657"
      },
      "execution_count": 15,
      "outputs": [
        {
          "output_type": "stream",
          "name": "stdout",
          "text": [
            "t3= [-1.0000000e+00 -4.4408921e-16  1.0000000e+00 -8.8817842e-16]\n",
            "the size of t3 is 1.4142135623730951\n",
            "u3 is [-7.07106781e-01 -3.14018492e-16  7.07106781e-01 -6.28036983e-16]\n"
          ]
        }
      ]
    },
    {
      "cell_type": "code",
      "source": [
        "# sanity check for u3:\n",
        "\n",
        "print(\"the size of u3 is\", np.sqrt(u3.dot(u3)))\n",
        "\n",
        "print(\"the dot product of u1 and u3 is \", u1.dot(u3))\n",
        "\n",
        "print(\"the dot product of u2 and u3 is \", u2.dot(u3))"
      ],
      "metadata": {
        "colab": {
          "base_uri": "https://localhost:8080/"
        },
        "id": "-yzjBsCPF0ra",
        "outputId": "1e269e75-cf49-4ed5-b91c-0bdc7c234a8e"
      },
      "execution_count": 16,
      "outputs": [
        {
          "output_type": "stream",
          "name": "stdout",
          "text": [
            "the size of u3 is 0.9999999999999999\n",
            "the dot product of u1 and u3 is  0.0\n",
            "the dot product of u2 and u3 is  -6.967444759389139e-16\n"
          ]
        }
      ]
    }
  ]
}